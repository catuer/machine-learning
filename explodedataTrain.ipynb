{
  "nbformat": 4,
  "nbformat_minor": 0,
  "metadata": {
    "colab": {
      "provenance": [],
      "authorship_tag": "ABX9TyP2VgeljK+HqBNZjkoLFVXA",
      "include_colab_link": true
    },
    "kernelspec": {
      "name": "python3",
      "display_name": "Python 3"
    },
    "language_info": {
      "name": "python"
    }
  },
  "cells": [
    {
      "cell_type": "markdown",
      "metadata": {
        "id": "view-in-github",
        "colab_type": "text"
      },
      "source": [
        "<a href=\"https://colab.research.google.com/github/catuer/machine-learning/blob/main/explodedataTrain.ipynb\" target=\"_parent\"><img src=\"https://colab.research.google.com/assets/colab-badge.svg\" alt=\"Open In Colab\"/></a>"
      ]
    },
    {
      "cell_type": "code",
      "execution_count": null,
      "metadata": {
        "id": "JUbYrbi0jN7b"
      },
      "outputs": [],
      "source": [
        "import pandas as pd\n",
        "url=\"https://raw.githubusercontent.com/catuer/machine-learning/main/train.csv\"\n",
        "train=pd.read_csv(url)\n",
        "train.head()"
      ]
    }
  ]
}